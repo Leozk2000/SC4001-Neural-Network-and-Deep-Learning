{
 "cells": [
  {
   "cell_type": "markdown",
   "metadata": {},
   "source": [
    "# Question A2 (10 marks)"
   ]
  },
  {
   "cell_type": "markdown",
   "metadata": {},
   "source": [
    "### In this question, we will determine the optimal batch size for mini-batch gradient descent. Find the optimal batch size for mini-batch gradient descent by training the neural network and evaluating the performances for different batch sizes. Note: Use 5-fold cross-validation on the training partition to perform hyperparameter selection. You will have to reconsider the scaling of the dataset during the 5-fold cross validation."
   ]
  },
  {
   "cell_type": "markdown",
   "metadata": {},
   "source": [
    "#### Plot mean cross-validation accuracies on the final epoch for different batch sizes as a scatter plot. Limit search space to batch sizes {64, 128, 256, 512}. Next, create a table of time taken to train the network on the last epoch against different batch sizes. Finally, select the optimal batch size and state a reason for your selection.\n",
    "\n",
    "\n",
    "This might take a while to run, so plan your time carefully."
   ]
  },
  {
   "cell_type": "code",
   "execution_count": 1,
   "metadata": {},
   "outputs": [
    {
     "name": "stderr",
     "output_type": "stream",
     "text": [
      "C:\\Users\\Admin\\anaconda3\\envs\\myenv\\lib\\site-packages\\tqdm\\auto.py:22: TqdmWarning: IProgress not found. Please update jupyter and ipywidgets. See https://ipywidgets.readthedocs.io/en/stable/user_install.html\n",
      "  from .autonotebook import tqdm as notebook_tqdm\n"
     ]
    }
   ],
   "source": [
    "import tqdm\n",
    "import time\n",
    "import random\n",
    "import numpy as np\n",
    "import pandas as pd\n",
    "import matplotlib.pyplot as plt\n",
    "\n",
    "import torch\n",
    "from torch import nn\n",
    "from torch.utils.data import Dataset\n",
    "from torch.utils.data import DataLoader\n",
    "\n",
    "from scipy.io import wavfile as wav\n",
    "\n",
    "from sklearn import preprocessing\n",
    "from sklearn.model_selection import KFold\n",
    "from sklearn.model_selection import train_test_split\n",
    "from sklearn.metrics import f1_score, precision_score, recall_score, confusion_matrix\n",
    "\n",
    "from common_utils import set_seed\n",
    "\n",
    "# setting seed\n",
    "set_seed()"
   ]
  },
  {
   "cell_type": "markdown",
   "metadata": {},
   "source": [
    "1.To reduce repeated code, place your\n",
    "\n",
    "- network (MLP defined in QA1)\n",
    "\n",
    "- torch datasets (CustomDataset defined in QA1)\n",
    "- loss function (loss_fn defined in QA1)\n",
    "in a separate file called common_utils.py\n",
    "\n",
    "Import them into this file. You will not be repenalised for any error in QA1 here as the code in QA1 will not be remarked.\n",
    "\n",
    "The following code cell will not be marked."
   ]
  },
  {
   "cell_type": "code",
   "execution_count": 4,
   "metadata": {},
   "outputs": [],
   "source": [
    "from common_utils import MLP, CustomDataset, EarlyStopper, preprocess_dataset"
   ]
  },
  {
   "cell_type": "markdown",
   "metadata": {},
   "source": [
    "2.Define different folds for different batch sizes to get a dictionary of training and validation datasets. Preprocess your datasets accordingly."
   ]
  },
  {
   "cell_type": "code",
   "execution_count": 7,
   "metadata": {},
   "outputs": [],
   "source": [
    "no_features = 77\n",
    "no_hidden = 128\n",
    "no_labels = 1\n",
    "\n",
    "no_folds = 5"
   ]
  },
  {
   "cell_type": "code",
   "execution_count": 9,
   "metadata": {},
   "outputs": [],
   "source": [
    "def generate_cv_folds_for_batch_sizes(parameters, X_train, y_train):\n",
    "    \"\"\"\n",
    "    returns:\n",
    "    X_train_scaled_dict(dict) where X_train_scaled_dict[batch_size] is a list of the preprocessed training matrix for the different folds.\n",
    "    X_val_scaled_dict(dict) where X_val_scaled_dict[batch_size] is a list of the processed validation matrix for the different folds.\n",
    "    y_train_dict(dict) where y_train_dict[batch_size] is a list of labels for the different folds\n",
    "    y_val_dict(dict) where y_val_dict[batch_size] is a list of labels for the different folds\n",
    "    \"\"\"\n",
    "    # create KFold object\n",
    "    kf = KFold(n_splits=no_folds, shuffle=True, random_state=42)\n",
    "\n",
    "    # create dicts\n",
    "    X_train_scaled_dict = {batch_size: [] for batch_size in batch_sizes}\n",
    "    X_val_scaled_dict = {batch_size: [] for batch_size in batch_sizes}\n",
    "    y_train_dict = {batch_size: [] for batch_size in batch_sizes}\n",
    "    y_val_dict = {batch_size: [] for batch_size in batch_sizes}\n",
    "    \n",
    "    for train_index, val_index in kf.split(X_train):\n",
    "        X_train_fold, X_val_fold = X_train[train_index], X_train[val_index]\n",
    "        y_train_fold, y_val_fold = y_train[train_index], y_train[val_index]\n",
    "        \n",
    "        # Scaling\n",
    "        X_train_scaled, X_val_scaled = preprocess_dataset(X_train_fold, X_val_fold)\n",
    "        \n",
    "        for batch_size in batch_sizes:\n",
    "            X_train_scaled_dict[batch_size].append(X_train_scaled)\n",
    "            X_val_scaled_dict[batch_size].append(X_val_scaled)\n",
    "            y_train_dict[batch_size].append(y_train_fold)\n",
    "            y_val_dict[batch_size].append(y_val_fold)\n",
    "    \n",
    "    return X_train_scaled_dict, X_val_scaled_dict, y_train_dict, y_val_dict\n",
    "\n",
    "df = pd.read_csv('simplified.csv')\n",
    "df['label'] = df['filename'].str.split('_').str[-2]\n",
    "\n",
    "df['label'].value_counts()\n",
    "\n",
    "\n",
    "# Remove 'filename' and 'label' columns from features\n",
    "X_train = df.drop(['filename', 'label'], axis=1)\n",
    "y_train = preprocessing.LabelEncoder().fit_transform(df['label'])\n",
    "\n",
    "batch_sizes = [64, 128, 256, 512]\n",
    "X_train_scaled_dict, X_val_scaled_dict, y_train_dict, y_val_dict = generate_cv_folds_for_batch_sizes(batch_sizes, X_train.to_numpy(), y_train)\n"
   ]
  },
  {
   "cell_type": "code",
   "execution_count": null,
   "metadata": {},
   "outputs": [],
   "source": []
  },
  {
   "cell_type": "markdown",
   "metadata": {},
   "source": [
    "3.Perform hyperparameter tuning for the different batch sizes with 5-fold cross validation."
   ]
  },
  {
   "cell_type": "code",
   "execution_count": 13,
   "metadata": {},
   "outputs": [],
   "source": [
    "from statistics import mean"
   ]
  },
  {
   "cell_type": "code",
   "execution_count": 15,
   "metadata": {},
   "outputs": [],
   "source": [
    "def find_optimal_hyperparameter(X_train_scaled_dict, X_val_scaled_dict, y_train_dict, y_val_dict, batch_sizes, parameters):\n",
    "    cross_validation_accuracies = {}\n",
    "    cross_validation_times = {}\n",
    "    last_epoch_times = {}\n",
    "\n",
    "    for batch_size in batch_sizes:\n",
    "        fold_accuracies = []\n",
    "        fold_times = []\n",
    "        fold_last_epoch_times = []\n",
    "\n",
    "        for fold in range(len(X_train_scaled_dict[batch_size])):\n",
    "            start_time = time.time()\n",
    "\n",
    "            # Dataset & Dataloader objects\n",
    "            train_dataset = CustomDataset(X_train_scaled_dict[batch_size][fold], y_train_dict[batch_size][fold])\n",
    "            test_dataset = CustomDataset(X_val_scaled_dict[batch_size][fold], y_val_dict[batch_size][fold])\n",
    "            train_loader = DataLoader(train_dataset, batch_size=batch_size, shuffle=True)\n",
    "            test_loader = DataLoader(test_dataset, batch_size=batch_size, shuffle=True)\n",
    "\n",
    "            # Initialize model, loss function, and optimizer\n",
    "            model = MLP(X_train.shape[1], 128, 1)\n",
    "            loss_fn = nn.BCELoss()\n",
    "            optimizer = torch.optim.Adam(model.parameters(), lr=0.001)\n",
    "\n",
    "            # Training loop\n",
    "            n_epochs = 15\n",
    "            for epoch in range(n_epochs):\n",
    "                model.train()\n",
    "                if epoch == n_epochs - 1:  # If it's the last epoch\n",
    "                    last_epoch_start_time = time.time()  # Start timing the last epoch\n",
    "                    \n",
    "                for X_batch, y_batch in train_loader:\n",
    "                    y_batch = y_batch.float().unsqueeze(1)\n",
    "                    y_pred = model(X_batch)\n",
    "                    loss = loss_fn(y_pred, y_batch)\n",
    "\n",
    "                    optimizer.zero_grad()\n",
    "                    loss.backward()\n",
    "                    optimizer.step()\n",
    "\n",
    "                if epoch == n_epochs - 1:  # If it's the last epoch\n",
    "                    last_epoch_time = time.time() - last_epoch_start_time  # Calculate time for the last epoch\n",
    "                    fold_last_epoch_times.append(last_epoch_time)  # Add to the list\n",
    "\n",
    "            # Evaluation\n",
    "            model.eval()\n",
    "            with torch.no_grad():\n",
    "                y_pred = model(test_dataset.X)\n",
    "                accuracy = ((y_pred > 0.5).float() == test_dataset.y.unsqueeze(1).float()).float().mean().item()\n",
    "\n",
    "            fold_accuracies.append(accuracy)\n",
    "            fold_times.append(time.time() - start_time)\n",
    "\n",
    "        print(fold_accuracies)\n",
    "        print(fold_times)\n",
    "        \n",
    "        cross_validation_accuracies[batch_size] = mean(fold_accuracies)\n",
    "        cross_validation_times[batch_size] = mean(fold_times)\n",
    "        last_epoch_times[batch_size] = fold_last_epoch_times\n",
    "\n",
    "    return cross_validation_accuracies, cross_validation_times, last_epoch_times\n"
   ]
  },
  {
   "cell_type": "code",
   "execution_count": 17,
   "metadata": {},
   "outputs": [
    {
     "name": "stdout",
     "output_type": "stream",
     "text": [
      "[0.746268630027771, 0.7524875402450562, 0.7494815587997437, 0.7490667700767517, 0.7349647283554077]\n",
      "[3.738298177719116, 3.740811347961426, 3.7538812160491943, 3.8152055740356445, 3.769463539123535]\n",
      "[0.7446103096008301, 0.7508291602134705, 0.7320613861083984, 0.7445043325424194, 0.7482372522354126]\n",
      "[2.8103840351104736, 2.8134000301361084, 2.804352283477783, 2.7741920948028564, 2.760620594024658]\n",
      "[0.7330016493797302, 0.7251243591308594, 0.726669430732727, 0.7196184396743774, 0.7216922640800476]\n",
      "[2.3228020668029785, 2.362009286880493, 2.2619800567626953, 2.3283307552337646, 2.3424062728881836]\n",
      "[0.7180762887001038, 0.7160032987594604, 0.711323082447052, 0.7055163979530334, 0.7080049514770508]\n",
      "[1.9091100692749023, 1.916651725769043, 2.014669179916382, 1.9040842056274414, 1.9282119274139404]\n"
     ]
    }
   ],
   "source": [
    "batch_sizes = [64, 128, 256, 512]\n",
    "cross_validation_accuracies, cross_validation_times, last_epoch_times = find_optimal_hyperparameter(X_train_scaled_dict, X_val_scaled_dict, y_train_dict, y_val_dict, batch_sizes, 'batch_size')\n"
   ]
  },
  {
   "cell_type": "code",
   "execution_count": 18,
   "metadata": {},
   "outputs": [
    {
     "name": "stdout",
     "output_type": "stream",
     "text": [
      "Batch size: 64\n",
      "  Average accuracy: 0.7465\n",
      "  Average time: 3.76 seconds\n",
      "Batch size: 128\n",
      "  Average accuracy: 0.7440\n",
      "  Average time: 2.79 seconds\n",
      "Batch size: 256\n",
      "  Average accuracy: 0.7252\n",
      "  Average time: 2.32 seconds\n",
      "Batch size: 512\n",
      "  Average accuracy: 0.7118\n",
      "  Average time: 1.93 seconds\n"
     ]
    }
   ],
   "source": [
    "# Print results\n",
    "mean_accuracies = []\n",
    "\n",
    "for batch_size in batch_sizes:\n",
    "    print(f\"Batch size: {batch_size}\")\n",
    "    print(f\"  Average accuracy: {cross_validation_accuracies[batch_size]:.4f}\")\n",
    "    mean_accuracies.append(cross_validation_accuracies[batch_size])\n",
    "    print(f\"  Average time: {cross_validation_times[batch_size]:.2f} seconds\")\n",
    "\n",
    "# Find best batch size\n",
    "# best_batch_size = max(cross_validation_accuracies, key=cross_validation_accuracies.get)\n",
    "# print(f\"\\nBest batch size: {best_batch_size}\")\n",
    "# print(f\"Best average accuracy: {cross_validation_accuracies[best_batch_size]:.4f}\")"
   ]
  },
  {
   "cell_type": "markdown",
   "metadata": {},
   "source": [
    "4.Plot scatterplot of mean cross validation accuracies for the different batch sizes."
   ]
  },
  {
   "cell_type": "code",
   "execution_count": 20,
   "metadata": {},
   "outputs": [
    {
     "data": {
      "image/png": "[encoded data removed]",
      "text/plain": [
       "<Figure size 720x576 with 1 Axes>"
      ]
     },
     "metadata": {
      "needs_background": "light"
     },
     "output_type": "display_data"
    }
   ],
   "source": [
    "fig = plt.figure(figsize=(10,8))\n",
    "plt.plot(batch_sizes, mean_accuracies, marker = 'x', linestyle = 'None')\n",
    "plt.xticks(batch_sizes)\n",
    "plt.xlabel('batch sizes')\n",
    "plt.ylabel('mean cross validation accuracies')\n",
    "plt.show()\n"
   ]
  },
  {
   "cell_type": "markdown",
   "metadata": {},
   "source": [
    "4.Create a table of time taken to train the network on the last epoch against different batch sizes. Select the optimal batch size and state a reason for your selection."
   ]
  },
  {
   "cell_type": "code",
   "execution_count": 22,
   "metadata": {},
   "outputs": [
    {
     "data": {
      "text/html": [
       "<div>\n",
       "<style scoped>\n",
       "    .dataframe tbody tr th:only-of-type {\n",
       "        vertical-align: middle;\n",
       "    }\n",
       "\n",
       "    .dataframe tbody tr th {\n",
       "        vertical-align: top;\n",
       "    }\n",
       "\n",
       "    .dataframe thead th {\n",
       "        text-align: right;\n",
       "    }\n",
       "</style>\n",
       "<table border=\"1\" class=\"dataframe\">\n",
       "  <thead>\n",
       "    <tr style=\"text-align: right;\">\n",
       "      <th></th>\n",
       "      <th>Batch Size</th>\n",
       "      <th>Fold number</th>\n",
       "      <th>Last Epoch Time</th>\n",
       "    </tr>\n",
       "  </thead>\n",
       "  <tbody>\n",
       "    <tr>\n",
       "      <th>0</th>\n",
       "      <td>64</td>\n",
       "      <td>1</td>\n",
       "      <td>0.247309</td>\n",
       "    </tr>\n",
       "    <tr>\n",
       "      <th>1</th>\n",
       "      <td>64</td>\n",
       "      <td>2</td>\n",
       "      <td>0.245299</td>\n",
       "    </tr>\n",
       "    <tr>\n",
       "      <th>2</th>\n",
       "      <td>64</td>\n",
       "      <td>3</td>\n",
       "      <td>0.252337</td>\n",
       "    </tr>\n",
       "    <tr>\n",
       "      <th>3</th>\n",
       "      <td>64</td>\n",
       "      <td>4</td>\n",
       "      <td>0.249823</td>\n",
       "    </tr>\n",
       "    <tr>\n",
       "      <th>4</th>\n",
       "      <td>64</td>\n",
       "      <td>5</td>\n",
       "      <td>0.251331</td>\n",
       "    </tr>\n",
       "    <tr>\n",
       "      <th>5</th>\n",
       "      <td>128</td>\n",
       "      <td>1</td>\n",
       "      <td>0.186488</td>\n",
       "    </tr>\n",
       "    <tr>\n",
       "      <th>6</th>\n",
       "      <td>128</td>\n",
       "      <td>2</td>\n",
       "      <td>0.185482</td>\n",
       "    </tr>\n",
       "    <tr>\n",
       "      <th>7</th>\n",
       "      <td>128</td>\n",
       "      <td>3</td>\n",
       "      <td>0.183975</td>\n",
       "    </tr>\n",
       "    <tr>\n",
       "      <th>8</th>\n",
       "      <td>128</td>\n",
       "      <td>4</td>\n",
       "      <td>0.181963</td>\n",
       "    </tr>\n",
       "    <tr>\n",
       "      <th>9</th>\n",
       "      <td>128</td>\n",
       "      <td>5</td>\n",
       "      <td>0.183472</td>\n",
       "    </tr>\n",
       "    <tr>\n",
       "      <th>10</th>\n",
       "      <td>256</td>\n",
       "      <td>1</td>\n",
       "      <td>0.147280</td>\n",
       "    </tr>\n",
       "    <tr>\n",
       "      <th>11</th>\n",
       "      <td>256</td>\n",
       "      <td>2</td>\n",
       "      <td>0.152307</td>\n",
       "    </tr>\n",
       "    <tr>\n",
       "      <th>12</th>\n",
       "      <td>256</td>\n",
       "      <td>3</td>\n",
       "      <td>0.145270</td>\n",
       "    </tr>\n",
       "    <tr>\n",
       "      <th>13</th>\n",
       "      <td>256</td>\n",
       "      <td>4</td>\n",
       "      <td>0.141751</td>\n",
       "    </tr>\n",
       "    <tr>\n",
       "      <th>14</th>\n",
       "      <td>256</td>\n",
       "      <td>5</td>\n",
       "      <td>0.155826</td>\n",
       "    </tr>\n",
       "    <tr>\n",
       "      <th>15</th>\n",
       "      <td>512</td>\n",
       "      <td>1</td>\n",
       "      <td>0.112093</td>\n",
       "    </tr>\n",
       "    <tr>\n",
       "      <th>16</th>\n",
       "      <td>512</td>\n",
       "      <td>2</td>\n",
       "      <td>0.125666</td>\n",
       "    </tr>\n",
       "    <tr>\n",
       "      <th>17</th>\n",
       "      <td>512</td>\n",
       "      <td>3</td>\n",
       "      <td>0.155825</td>\n",
       "    </tr>\n",
       "    <tr>\n",
       "      <th>18</th>\n",
       "      <td>512</td>\n",
       "      <td>4</td>\n",
       "      <td>0.126671</td>\n",
       "    </tr>\n",
       "    <tr>\n",
       "      <th>19</th>\n",
       "      <td>512</td>\n",
       "      <td>5</td>\n",
       "      <td>0.126671</td>\n",
       "    </tr>\n",
       "  </tbody>\n",
       "</table>\n",
       "</div>"
      ],
      "text/plain": [
       "    Batch Size  Fold number  Last Epoch Time\n",
       "0           64            1         0.247309\n",
       "1           64            2         0.245299\n",
       "2           64            3         0.252337\n",
       "3           64            4         0.249823\n",
       "4           64            5         0.251331\n",
       "5          128            1         0.186488\n",
       "6          128            2         0.185482\n",
       "7          128            3         0.183975\n",
       "8          128            4         0.181963\n",
       "9          128            5         0.183472\n",
       "10         256            1         0.147280\n",
       "11         256            2         0.152307\n",
       "12         256            3         0.145270\n",
       "13         256            4         0.141751\n",
       "14         256            5         0.155826\n",
       "15         512            1         0.112093\n",
       "16         512            2         0.125666\n",
       "17         512            3         0.155825\n",
       "18         512            4         0.126671\n",
       "19         512            5         0.126671"
      ]
     },
     "execution_count": 22,
     "metadata": {},
     "output_type": "execute_result"
    }
   ],
   "source": [
    "# Create lists to hold the data for the DataFrame\n",
    "batch_size_list = []\n",
    "last_epoch_time_list = []\n",
    "fold_list = [1,2,3,4,5,1,2,3,4,5,1,2,3,4,5,1,2,3,4,5]\n",
    "\n",
    "# Populate the lists\n",
    "for batch_size in batch_sizes:\n",
    "    for time in last_epoch_times[batch_size]:\n",
    "        batch_size_list.append(batch_size)\n",
    "        last_epoch_time_list.append(time)\n",
    "\n",
    "# Create the DataFrame\n",
    "df = pd.DataFrame({\n",
    "    'Batch Size': batch_size_list,\n",
    "    'Fold number': fold_list,\n",
    "    'Last Epoch Time': last_epoch_time_list\n",
    "})\n",
    "\n",
    "# Print DataFrame\n",
    "df"
   ]
  },
  {
   "cell_type": "code",
   "execution_count": 23,
   "metadata": {},
   "outputs": [
    {
     "name": "stdout",
     "output_type": "stream",
     "text": [
      "            count      mean       std       min       25%       50%       75%  \\\n",
      "Batch Size                                                                      \n",
      "64            5.0  0.249220  0.002896  0.245299  0.247309  0.249823  0.251331   \n",
      "128           5.0  0.184276  0.001763  0.181963  0.183472  0.183975  0.185482   \n",
      "256           5.0  0.148487  0.005604  0.141751  0.145270  0.147280  0.152307   \n",
      "512           5.0  0.129385  0.016021  0.112093  0.125666  0.126671  0.126671   \n",
      "\n",
      "                 max  \n",
      "Batch Size            \n",
      "64          0.252337  \n",
      "128         0.186488  \n",
      "256         0.155826  \n",
      "512         0.155825  \n"
     ]
    }
   ],
   "source": [
    "# Checking mean last epoch time against batch sizes\n",
    "print(df.groupby('Batch Size')['Last Epoch Time'].describe())"
   ]
  },
  {
   "cell_type": "code",
   "execution_count": 26,
   "metadata": {},
   "outputs": [],
   "source": [
    "# YOUR CODE HERE\n",
    "optimal_batch_size = 64\n",
    "reason = \"Batch size of 64 has the highest cross-validation accuracy, even though it has the longest average last epoch training time.\""
   ]
  },
  {
   "cell_type": "code",
   "execution_count": null,
   "metadata": {},
   "outputs": [],
   "source": []
  }
 ],
 "metadata": {
  "kernelspec": {
   "display_name": "cnnkernel",
   "language": "python",
   "name": "cnnkernel"
  },
  "language_info": {
   "codemirror_mode": {
    "name": "ipython",
    "version": 3
   },
   "file_extension": ".py",
   "mimetype": "text/x-python",
   "name": "python",
   "nbconvert_exporter": "python",
   "pygments_lexer": "ipython3",
   "version": "3.6.15"
  }
 },
 "nbformat": 4,
 "nbformat_minor": 4
}
